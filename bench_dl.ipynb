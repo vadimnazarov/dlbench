{
 "cells": [
  {
   "cell_type": "code",
   "execution_count": 1,
   "metadata": {},
   "outputs": [],
   "source": [
    "import time\n",
    "import sys\n",
    "\n",
    "import numpy as np\n",
    "from pandas.io.json import json_normalize\n",
    "from tqdm import tqdm_notebook\n",
    "\n",
    "import torch\n",
    "import torch.optim as optim\n",
    "import torch.nn.functional as F\n",
    "from cnn import make_cifar10_dataset_resnet, make_model, download_cifar10"
   ]
  },
  {
   "cell_type": "code",
   "execution_count": 2,
   "metadata": {},
   "outputs": [],
   "source": [
    "DATA = \"./data\"\n",
    "BATCH_SIZE = 128\n",
    "max_cpu_count = 4\n",
    "do_transform = False"
   ]
  },
  {
   "cell_type": "code",
   "execution_count": 3,
   "metadata": {},
   "outputs": [
    {
     "name": "stdout",
     "output_type": "stream",
     "text": [
      "  download time: -1\n",
      "  untar time: -1\n"
     ]
    }
   ],
   "source": [
    "download_time, untar_time = download_cifar10(DATA)\n",
    "print(\"  download time:\", round(download_time, 3))\n",
    "print(\"  untar time:\", round(untar_time, 3))"
   ]
  },
  {
   "cell_type": "code",
   "execution_count": 9,
   "metadata": {},
   "outputs": [],
   "source": [
    "def add_item(stats, bench, do_transform, device, workers, \n",
    "             model, time, batches, images):\n",
    "    stats.append({})\n",
    "    stats[-1][\"benchmark\"] = bench\n",
    "    stats[-1][\"transform\"] = do_transform\n",
    "    stats[-1][\"workers\"] = workers\n",
    "    stats[-1][\"device\"] = device\n",
    "    stats[-1][\"model\"] = model\n",
    "    stats[-1][\"time\"] = time\n",
    "    stats[-1][\"batches\"] = batches\n",
    "    stats[-1][\"images/sec\"] = images\n",
    "    \n",
    "stats = []"
   ]
  },
  {
   "cell_type": "code",
   "execution_count": 10,
   "metadata": {},
   "outputs": [
    {
     "name": "stdout",
     "output_type": "stream",
     "text": [
      "Device:\t 0\n",
      "Model:\t resnet18\n",
      "Workers:\t 0\n",
      "\n",
      "Device:\t 0\n",
      "Model:\t resnet152\n",
      "Workers:\t 0\n",
      "\n"
     ]
    }
   ],
   "source": [
    "cuda_devices = list(range(torch.cuda.device_count()))\n",
    "model_list = [\"resnet18\", \"resnet152\"]\n",
    "\n",
    "for cuda_device in cuda_devices:\n",
    "    for model_name in model_list:\n",
    "        for num_workers in range(1):\n",
    "            print(\"Device:\\t\", cuda_device)\n",
    "            print(\"Model:\\t\", model_name)\n",
    "            print(\"Workers:\\t\", num_workers)\n",
    "            trn_loader = make_cifar10_dataset_resnet(DATA, BATCH_SIZE, device=cuda_device, transformations=do_transform,\n",
    "                                                     distributed=False, num_workers=num_workers)\n",
    "\n",
    "            model = make_model(model_name).to(cuda_device)\n",
    "            optimizer = optim.Adam(model.parameters())\n",
    "            \n",
    "            start = time.time()\n",
    "            for batch_i, (batch, labels) in enumerate(trn_loader):\n",
    "                optimizer.zero_grad()\n",
    "                batch, labels = batch.to(cuda_device), labels.to(cuda_device)\n",
    "                preds = model(batch)\n",
    "                loss = F.cross_entropy(preds, labels)\n",
    "                loss.backward()\n",
    "                optimizer.step()\n",
    "            model_time = time.time() - start\n",
    "            add_item(stats, \"cifar\", do_transform, cuda_device, num_workers, \n",
    "                     model_name, model_time, batch_i, BATCH_SIZE * batch_i / model_time)\n",
    "            print()"
   ]
  },
  {
   "cell_type": "code",
   "execution_count": 20,
   "metadata": {},
   "outputs": [
    {
     "name": "stdout",
     "output_type": "stream",
     "text": [
      "   batches benchmark  device   images/sec      model        time  workers\n",
      "0      390     cifar       0  1140.399378   resnet18   43.774138        0\n",
      "1      390     cifar       0   485.805311  resnet152  102.757213        0\n"
     ]
    }
   ],
   "source": [
    "df = json_normalize(stats)\n",
    "print(df)\n",
    "df.to_csv(\"./logs.txt\")"
   ]
  },
  {
   "cell_type": "code",
   "execution_count": 11,
   "metadata": {},
   "outputs": [
    {
     "name": "stdout",
     "output_type": "stream",
     "text": [
      "   batches benchmark  device   images/sec      model       time  transform  \\\n",
      "0      390     cifar       0  1920.262599   resnet18  25.996444      False   \n",
      "1      390     cifar       0   542.429185  resnet152  92.030446      False   \n",
      "\n",
      "   workers  \n",
      "0        0  \n",
      "1        0  \n"
     ]
    }
   ],
   "source": [
    "df = json_normalize(stats)\n",
    "print(df)\n",
    "df.to_csv(\"./logs.txt\")"
   ]
  }
 ],
 "metadata": {
  "kernelspec": {
   "display_name": "Python 3",
   "language": "python",
   "name": "python3"
  },
  "language_info": {
   "codemirror_mode": {
    "name": "ipython",
    "version": 3
   },
   "file_extension": ".py",
   "mimetype": "text/x-python",
   "name": "python",
   "nbconvert_exporter": "python",
   "pygments_lexer": "ipython3",
   "version": "3.6.8"
  }
 },
 "nbformat": 4,
 "nbformat_minor": 2
}
